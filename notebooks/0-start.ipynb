{
 "cells": [
  {
   "cell_type": "markdown",
   "source": [
    "# Data processing"
   ],
   "metadata": {
    "collapsed": false,
    "pycharm": {
     "name": "#%% md\n"
    }
   }
  },
  {
   "cell_type": "markdown",
   "source": [
    "# 1. Digital PDF"
   ],
   "metadata": {
    "collapsed": false,
    "pycharm": {
     "name": "#%% md\n"
    }
   }
  },
  {
   "cell_type": "markdown",
   "source": [
    "## 1.1. Loading the PDF"
   ],
   "metadata": {
    "collapsed": false,
    "pycharm": {
     "name": "#%% md\n"
    }
   }
  },
  {
   "cell_type": "code",
   "execution_count": 1,
   "outputs": [
    {
     "name": "stdout",
     "output_type": "stream",
     "text": [
      "0.6.2\n"
     ]
    }
   ],
   "source": [
    "import pdfplumber\n",
    "\n",
    "print(pdfplumber.__version__)"
   ],
   "metadata": {
    "collapsed": false,
    "pycharm": {
     "name": "#%%\n"
    }
   }
  },
  {
   "cell_type": "code",
   "execution_count": null,
   "outputs": [],
   "source": [
    "import os\n",
    "\n",
    "proj_name = \"electrificat\"\n",
    "curr_dir = os.getcwd()\n",
    "if proj_name in curr_dir:\n",
    "    new_dir = curr_dir.split(proj_name)[0]\n",
    "    new_dir = os.path.join(new_dir, proj_name)\n",
    "    os.chdir(new_dir)\n",
    "\n",
    "os.getcwd()"
   ],
   "metadata": {
    "collapsed": false,
    "pycharm": {
     "name": "#%%\n"
    }
   }
  },
  {
   "cell_type": "code",
   "execution_count": null,
   "outputs": [],
   "source": [
    "root = os.getcwd()\n",
    "pdf_file = os.path.join(root, \"data/raw/Factura_FE22321385375221.pdf\")\n",
    "# pdf_file = os.path.join(root, \"data/raw/HOLALUZ_628bdcf527c3c2.13969730.pdf\")"
   ],
   "metadata": {
    "collapsed": false,
    "pycharm": {
     "name": "#%%\n"
    }
   }
  },
  {
   "cell_type": "code",
   "execution_count": null,
   "outputs": [],
   "source": [
    "pdf = pdfplumber.open(pdf_file)"
   ],
   "metadata": {
    "collapsed": false,
    "pycharm": {
     "name": "#%%\n"
    }
   }
  },
  {
   "cell_type": "code",
   "execution_count": null,
   "outputs": [],
   "source": [
    "# len(pdf.pages)\n",
    "p1 = pdf.pages[1]"
   ],
   "metadata": {
    "collapsed": false,
    "pycharm": {
     "name": "#%%\n"
    }
   }
  },
  {
   "cell_type": "code",
   "execution_count": null,
   "outputs": [],
   "source": [
    "im = p1.to_image()\n",
    "im"
   ],
   "metadata": {
    "collapsed": false,
    "pycharm": {
     "name": "#%%\n"
    }
   }
  },
  {
   "cell_type": "markdown",
   "source": [
    "## 1.2. Extract the text"
   ],
   "metadata": {
    "collapsed": false,
    "pycharm": {
     "name": "#%% md\n"
    }
   }
  },
  {
   "cell_type": "code",
   "execution_count": null,
   "outputs": [],
   "source": [
    "extracted_text = [page.extract_text() for page in pdf.pages]\n",
    "extracted_text = \"\\n\".join(extracted_text)\n",
    "# extracted_text = pdf.pages[1].extract_text()"
   ],
   "metadata": {
    "collapsed": false,
    "pycharm": {
     "name": "#%%\n"
    }
   }
  },
  {
   "cell_type": "markdown",
   "source": [
    "### 1.2.1 Extract maximum consumed power"
   ],
   "metadata": {
    "collapsed": false,
    "pycharm": {
     "name": "#%% md\n"
    }
   }
  },
  {
   "cell_type": "code",
   "execution_count": null,
   "outputs": [],
   "source": [
    "def extract_target(text: str, target: list) -> list:\n",
    "    \"\"\"\n",
    "    Return a vector of the explicit target words found on the provided text.\n",
    "    :param text:\n",
    "    :param target:\n",
    "    :return:\n",
    "    \"\"\"\n",
    "    found_checker = [False] * len(target)\n",
    "    found_words = {}\n",
    "\n",
    "    for i, list_word in enumerate(target):\n",
    "        words = []\n",
    "        for word in list_word:\n",
    "            if word in text:\n",
    "                found_checker[i] = True\n",
    "                print(word)\n",
    "                words.append(word)\n",
    "                found_words[i] = words\n",
    "\n",
    "    if sum(found_checker) == len(target):\n",
    "        print(\"Target words found!\")\n",
    "        return found_words\n",
    "\n",
    "    # return [word for list_word in target for word in list_word if word in text]\n",
    "    print(\"Keywords not found.\")\n",
    "    return []"
   ],
   "metadata": {
    "collapsed": false,
    "pycharm": {
     "name": "#%%\n"
    }
   }
  },
  {
   "cell_type": "code",
   "execution_count": null,
   "outputs": [],
   "source": [
    "def extract_line(text: str, target: list) -> str:\n",
    "    \"\"\"\n",
    "    Extract the line where the most of the target words are located\n",
    "    :param text:\n",
    "    :param target:\n",
    "    :return:\n",
    "    \"\"\"\n",
    "    # assert target[0] in text, \"The target words are not present in the provided text\"\n",
    "\n",
    "    # Parse line splits to make a list of str (one line per slot)\n",
    "    extracted_lines = text.splitlines()\n",
    "    # found_target = [i for i,curr_line in enumerate(extracted_lines) for word in target if word in curr_line]\n",
    "    # print(found_target)\n",
    "\n",
    "    for curr_line in extracted_lines:\n",
    "        # print(curr_line)\n",
    "        if all(target[x] in curr_line for x in target):\n",
    "            return curr_line\n",
    "    # common = Counter(found_target).most_common()\n",
    "\n",
    "    # for i,count in enumerate(common):\n",
    "    #     print(i,count)\n",
    "    #     print(len(target))\n",
    "    #     if count[1] <= len(target):\n",
    "    #         line_nr = count[0]\n",
    "    #         print(line_nr)\n",
    "    #         break\n",
    "\n",
    "    # line_nr = Counter(found_target).most_common()[0][0]\n",
    "\n",
    "    return extracted_lines[line_nr]"
   ],
   "metadata": {
    "collapsed": false,
    "pycharm": {
     "name": "#%%\n"
    }
   }
  },
  {
   "cell_type": "code",
   "execution_count": null,
   "outputs": [],
   "source": [
    "# for x in found:\n",
    "#     print(found[x])\n",
    "#\n",
    "# for curr_line in extracted_lines:\n",
    "#\n",
    "#     if all(target[x] in curr_line for x in target):\n",
    "#     return curr_line\n",
    "extracted_lines = extracted_text.splitlines()\n",
    "#\n",
    "from itertools import permutations\n",
    "\n",
    "# permutations()\n",
    "# for curr_line in extracted_lines:\n",
    "#     if all(found[key] in curr_line for key in found)\n",
    "#     # print(a)\n",
    "vals = {}\n",
    "myval = []\n",
    "lengths = [len(val) for val in found.values()]\n",
    "\n",
    "permutes = 1\n",
    "for x in lengths:\n",
    "    permutes = permutes * x\n",
    "print(permutes)\n",
    "\n",
    "for key, value in found.items():\n",
    "    print(f\"key: {key} , value: {value}\")\n",
    "\n",
    "\n",
    "for key in found:\n",
    "    myval.append(found[key][0])\n",
    "\n",
    "vals[0] = myval\n",
    "myval = []\n",
    "\n",
    "for val in lengths:\n",
    "    if val > 1:\n",
    "        max_dict = len(vals.keys())  # this is +1, starts at 0\n",
    "\n",
    "        for key, value in found.items():\n",
    "            if len(value) > 1:\n",
    "                myval.append(found[key][max_dict])\n",
    "            else:\n",
    "                myval.append(found[key][0])\n",
    "\n",
    "vals[max_dict] = myval\n",
    "myval = []\n",
    "\n",
    "print(vals)"
   ],
   "metadata": {
    "collapsed": false,
    "pycharm": {
     "name": "#%%\n"
    }
   }
  },
  {
   "cell_type": "code",
   "execution_count": null,
   "outputs": [],
   "source": [
    "from itertools import permutations, product\n",
    "\n",
    "result = []\n",
    "for perm in permutations([found[0], found[1]]):\n",
    "    for prod in product(*perm):\n",
    "        if prod[0] in found[0]:\n",
    "            result.append(prod)\n",
    "print(result)"
   ],
   "metadata": {
    "collapsed": false,
    "pycharm": {
     "name": "#%%\n"
    }
   }
  },
  {
   "cell_type": "code",
   "execution_count": null,
   "outputs": [],
   "source": [
    "# List of words of interest in order to find the desired section\n",
    "power = {\n",
    "    \"potencia\",\n",
    "    \"potència\",\n",
    "    \"poténcia\",\n",
    "    \"Potencia\",\n",
    "    \"Potència\",\n",
    "    \"Poténcia\",\n",
    "    \"potencies\",\n",
    "    \"potencias\",\n",
    "    \"potències\",\n",
    "    \"poténcias\",\n",
    "    \"Potencias\",\n",
    "    \"Potències\",\n",
    "    \"Poténcias\",\n",
    "}\n",
    "maxima = {\n",
    "    \"maxima\",\n",
    "    \"màxima\",\n",
    "    \"máxima\",\n",
    "    \"Maxima\",\n",
    "    \"Màxima\",\n",
    "    \"Máxima\",\n",
    "    \"maximes\",\n",
    "    \"maximas\",\n",
    "    \"màximes\",\n",
    "    \"máximas\",\n",
    "    \"Maximas\",\n",
    "    \"Màximes\",\n",
    "    \"Máximas\",\n",
    "}\n",
    "year = [\"any\", \"año\", \"Any\", \"Año\"]\n",
    "words = [power, maxima, year]"
   ],
   "metadata": {
    "collapsed": false,
    "pycharm": {
     "name": "#%%\n"
    }
   }
  },
  {
   "cell_type": "code",
   "execution_count": null,
   "outputs": [],
   "source": [
    "found = extract_target(extracted_text, words)\n",
    "found"
   ],
   "metadata": {
    "collapsed": false,
    "pycharm": {
     "name": "#%%\n"
    }
   }
  },
  {
   "cell_type": "code",
   "execution_count": null,
   "outputs": [],
   "source": [
    "target_line = extract_line(extracted_text, found)\n",
    "target_line"
   ],
   "metadata": {
    "collapsed": false,
    "pycharm": {
     "name": "#%%\n"
    }
   }
  },
  {
   "cell_type": "code",
   "execution_count": null,
   "outputs": [],
   "source": [
    "def extract_target_lines(line: str) -> list:\n",
    "    \"\"\"\n",
    "    Return a stripped line with the desired P1, P2, P3 power count\n",
    "    :param line:\n",
    "    :return:\n",
    "    \"\"\"\n",
    "\n",
    "    p1 = p2 = p3 = None\n",
    "\n",
    "    if \"P1\" in line:\n",
    "        p1 = line.split(\"P1\")[0]\n",
    "        line = line.split(\"P1\")[-1]  # Not change the order\n",
    "\n",
    "    if \"P2\" in line:\n",
    "        p2 = line.split(\"P2\")[0]\n",
    "\n",
    "    if \"P3\" in line:\n",
    "        line = line.split(\"P2\")[-1]\n",
    "        p3 = line.split(\"P3\")[0]\n",
    "\n",
    "    return [p1, p2, p3]"
   ],
   "metadata": {
    "collapsed": false,
    "pycharm": {
     "name": "#%%\n"
    }
   }
  },
  {
   "cell_type": "code",
   "execution_count": null,
   "outputs": [],
   "source": [
    "def extract_numbers(text: str) -> (float, None):\n",
    "    \"\"\"\n",
    "    Input some text and extract a single number as a float\n",
    "    :param text:\n",
    "    :return:\n",
    "    \"\"\"\n",
    "    import re\n",
    "\n",
    "    assert (\n",
    "        len(re.findall(r\"\\d+\", text)) > 0\n",
    "    ), \"The input string does not contain any number\"\n",
    "\n",
    "    # Replace , with . for decimal position, if found.\n",
    "    if \",\" in text:\n",
    "        text = text.replace(\",\", \".\")\n",
    "\n",
    "    if \".\" in text:\n",
    "        number = re.findall(r\"\\d+\\.\\d+\", text)\n",
    "        if float(number[0]) == 0.0:\n",
    "            return None\n",
    "\n",
    "        return float(number[0])\n",
    "\n",
    "    # When there's no decimal position\n",
    "    number = re.findall(r\"\\d+\", text)\n",
    "\n",
    "    if number[0] == 0:\n",
    "        return None\n",
    "\n",
    "    return number[0]"
   ],
   "metadata": {
    "collapsed": false,
    "pycharm": {
     "name": "#%%\n"
    }
   }
  },
  {
   "cell_type": "code",
   "execution_count": null,
   "outputs": [],
   "source": [
    "def extract_pmax(p_range: list) -> list:\n",
    "    \"\"\"\n",
    "    From the lines identified with P1,P2,P3, extract the numerical value.\n",
    "    Example: \"Here you have P1 0.34 kWh and P2 for 10,00 kwh\" -> [0.34, 10.0]\n",
    "    :param p_range:\n",
    "    :return:\n",
    "    \"\"\"\n",
    "    pmax = [\n",
    "        extract_numbers(px)\n",
    "        for px in p_range\n",
    "        if px is not None and extract_numbers(px) is not None\n",
    "    ]\n",
    "\n",
    "    [print(f\"P{i+1} maximum power: {pmax[i]} kWh\") for i in range(len(pmax))]\n",
    "    return pmax"
   ],
   "metadata": {
    "collapsed": false,
    "pycharm": {
     "name": "#%%\n"
    }
   }
  },
  {
   "cell_type": "code",
   "execution_count": null,
   "outputs": [],
   "source": [
    "p_ranges = extract_target_lines(target_line)\n",
    "print(p_ranges)\n",
    "p_max = extract_pmax(p_ranges)"
   ],
   "metadata": {
    "collapsed": false,
    "pycharm": {
     "name": "#%%\n"
    }
   }
  },
  {
   "cell_type": "markdown",
   "source": [
    "### 1.2.2. Extract total consumed power"
   ],
   "metadata": {
    "collapsed": false,
    "pycharm": {
     "name": "#%% md\n"
    }
   }
  },
  {
   "cell_type": "code",
   "execution_count": null,
   "outputs": [],
   "source": [
    "total = {\"total\", \"Total\", \"TOTAL\"}\n",
    "consumed = {\n",
    "    \"consum\",\n",
    "    \"Consum\",\n",
    "    \"CONSUM\",\n",
    "    \"consumo\",\n",
    "    \"Consumo\",\n",
    "    \"CONSUMO\",\n",
    "    \"consumit\",\n",
    "    \"Consumit\",\n",
    "    \"CONSUMIT\",\n",
    "    \"consumido\",\n",
    "    \"Consumido\",\n",
    "    \"CONSUMIDO\",\n",
    "    \"consumida\",\n",
    "    \"Consumida\",\n",
    "    \"CONSUMIDA\",\n",
    "}\n",
    "\n",
    "words = [total, consumed]"
   ],
   "metadata": {
    "collapsed": false,
    "pycharm": {
     "name": "#%%\n"
    }
   }
  },
  {
   "cell_type": "code",
   "execution_count": null,
   "outputs": [],
   "source": [
    "found = extract_target(extracted_text, words)\n",
    "print(found)\n",
    "target_line = extract_line(extracted_text, found)"
   ],
   "metadata": {
    "collapsed": false,
    "pycharm": {
     "name": "#%%\n"
    }
   }
  },
  {
   "cell_type": "code",
   "execution_count": null,
   "outputs": [],
   "source": [
    "target_line"
   ],
   "metadata": {
    "collapsed": false,
    "pycharm": {
     "name": "#%%\n"
    }
   }
  },
  {
   "cell_type": "code",
   "execution_count": null,
   "outputs": [],
   "source": [
    "total_consumed = extract_numbers(target_line)\n",
    "print(total_consumed)\n",
    "print(f\"Total energy consumed: {total_consumed} kWh\")"
   ],
   "metadata": {
    "collapsed": false,
    "pycharm": {
     "name": "#%%\n"
    }
   }
  },
  {
   "cell_type": "markdown",
   "source": [
    "### 1.2.3. Extract total price paid"
   ],
   "metadata": {
    "collapsed": false,
    "pycharm": {
     "name": "#%% md\n"
    }
   }
  },
  {
   "cell_type": "code",
   "execution_count": null,
   "outputs": [],
   "source": [
    "total = {\"total\", \"Total\", \"TOTAL\"}\n",
    "pagar = {\"pagar\", \"Pagar\", \"PAGAR\"}\n",
    "words = [total, pagar]"
   ],
   "metadata": {
    "collapsed": false,
    "pycharm": {
     "name": "#%%\n"
    }
   }
  },
  {
   "cell_type": "code",
   "execution_count": null,
   "outputs": [],
   "source": [
    "found = extract_target(extracted_text, words)\n",
    "target_line = extract_line(extracted_text, found)"
   ],
   "metadata": {
    "collapsed": false,
    "pycharm": {
     "name": "#%%\n"
    }
   }
  },
  {
   "cell_type": "code",
   "execution_count": 52,
   "outputs": [
    {
     "name": "stdout",
     "output_type": "stream",
     "text": [
      "Total paid for the bill: 1€\n"
     ]
    }
   ],
   "source": [
    "total_paid = extract_numbers(target_line)\n",
    "print(f\"Total paid for the bill: {total_paid}€\")"
   ],
   "metadata": {
    "collapsed": false,
    "pycharm": {
     "name": "#%%\n"
    }
   }
  },
  {
   "cell_type": "markdown",
   "source": [
    "### 1.2.4. Extract prices paid for different power ranges"
   ],
   "metadata": {
    "collapsed": false,
    "pycharm": {
     "name": "#%% md\n"
    }
   }
  },
  {
   "cell_type": "code",
   "execution_count": null,
   "outputs": [],
   "source": [],
   "metadata": {
    "collapsed": false,
    "pycharm": {
     "name": "#%%\n"
    }
   }
  }
 ],
 "metadata": {
  "kernelspec": {
   "display_name": "Python 3",
   "language": "python",
   "name": "python3"
  },
  "language_info": {
   "codemirror_mode": {
    "name": "ipython",
    "version": 2
   },
   "file_extension": ".py",
   "mimetype": "text/x-python",
   "name": "python",
   "nbconvert_exporter": "python",
   "pygments_lexer": "ipython2",
   "version": "2.7.6"
  }
 },
 "nbformat": 4,
 "nbformat_minor": 0
}